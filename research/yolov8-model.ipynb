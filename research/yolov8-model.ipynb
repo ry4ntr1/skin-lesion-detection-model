{
  "cells": [
    {
      "cell_type": "code",
      "execution_count": null,
      "metadata": {
        "colab": {
          "base_uri": "https://localhost:8080/"
        },
        "id": "Y8cDtxLIBHgQ",
        "outputId": "355a34fc-1dd4-4868-8f2b-1e929d896600"
      },
      "outputs": [],
      "source": [
        "!nvidia-smi"
      ]
    },
    {
      "cell_type": "code",
      "execution_count": null,
      "metadata": {
        "colab": {
          "base_uri": "https://localhost:8080/"
        },
        "id": "CjpPg4mGKc1v",
        "outputId": "cd8f6caa-6d4d-4942-8cf4-612f12f5a1a0"
      },
      "outputs": [],
      "source": [
        "import os\n",
        "HOME = os.getcwd()\n",
        "print(HOME)"
      ]
    },
    {
      "cell_type": "code",
      "execution_count": null,
      "metadata": {
        "colab": {
          "base_uri": "https://localhost:8080/"
        },
        "id": "tdSMcABDNKW-",
        "outputId": "5b8098a2-7f03-4bf7-d349-70e6e69b36c6"
      },
      "outputs": [],
      "source": [
        "# Pip install method (recommended)\n",
        "\n",
        "!pip install ultralytics\n",
        "\n",
        "from IPython import display\n",
        "display.clear_output()\n",
        "\n",
        "import ultralytics\n",
        "ultralytics.checks()"
      ]
    },
    {
      "cell_type": "code",
      "execution_count": null,
      "metadata": {
        "id": "15d68686"
      },
      "outputs": [],
      "source": [
        "\n",
        "# Data Augmentation\n",
        "# For YOLOv8, augmentation can be set in the dataset configuration file (e.g., YAML)\n",
        "# Include transformations like random resizing, flipping, color jitter, etc.\n",
        "\n",
        "augmentation_settings = '''\n",
        "# Example YAML configuration snippet\n",
        "# train:\n",
        "#   path: ./train/images\n",
        "#   augmentations:\n",
        "#     - Resize: {width: 640, height: 640}\n",
        "#     - RandomCrop: {width: 512, height: 512}\n",
        "#     - RandomBrightnessContrast\n",
        "#     - HorizontalFlip\n",
        "#     - VerticalFlip\n",
        "# '''\n"
      ]
    },
    {
      "cell_type": "code",
      "execution_count": null,
      "metadata": {
        "id": "d98dabd1"
      },
      "outputs": [],
      "source": [
        "\n",
        "# Hyperparameters tuning\n",
        "# In YOLOv8, hyperparameters can be adjusted in the model configuration file or via command line arguments\n",
        "\n",
        "hyperparameters = '''\n",
        "# Example YAML configuration snippet or CLI arguments\n",
        "# lr0: 0.01  # initial learning rate\n",
        "# lrf: 0.1   # final learning rate (with LR scheduler)\n",
        "# momentum: 0.937\n",
        "# weight_decay: 0.0005\n",
        "# warmup_epochs: 3\n",
        "# warmup_momentum: 0.8\n",
        "# warmup_bias_lr: 0.1\n",
        "# box: 0.05\n",
        "# cls: 0.5\n",
        "# cls_pw: 1.0\n",
        "# obj: 1.0\n",
        "# obj_pw: 1.0\n",
        "# iou_t: 0.20\n",
        "# anchor_t: 4.0\n",
        "# # ... other hyperparameters\n",
        "# '''\n"
      ]
    },
    {
      "cell_type": "code",
      "execution_count": null,
      "metadata": {
        "id": "13eddd80"
      },
      "outputs": [],
      "source": [
        "\n",
        "# Regularization techniques\n",
        "# For YOLOv8, regularization can be applied through model architecture adjustments or during training\n",
        "\n",
        "regularization_techniques = '''\n",
        "# Example methods of applying regularization in YOLOv8\n",
        "# - Use DropBlock layers in the model architecture\n",
        "# - Apply data augmentation techniques as part of regularization\n",
        "# - Include model sparsity during training for better generalization\n",
        "# '''\n"
      ]
    },
    {
      "cell_type": "code",
      "execution_count": null,
      "metadata": {
        "id": "cb093553"
      },
      "outputs": [],
      "source": [
        "\n",
        "\n",
        "training_enhancements = '''\n",
        "# Example enhancements for YOLOv8 training\n",
        "# - Use learning rate schedulers available in YOLOv8\n",
        "# - Implement early stopping based on validation loss\n",
        "# - Utilize mixed precision training for faster computations\n",
        "# '''\n"
      ]
    },
    {
      "cell_type": "code",
      "execution_count": null,
      "metadata": {
        "id": "VOEYrlBoP9-E"
      },
      "outputs": [],
      "source": [
        "from ultralytics import YOLO\n",
        "\n",
        "from IPython.display import display, Image"
      ]
    },
    {
      "cell_type": "code",
      "execution_count": null,
      "metadata": {
        "colab": {
          "base_uri": "https://localhost:8080/"
        },
        "id": "NAuOTJhGN-V1",
        "outputId": "1e80d878-9278-48e5-d06f-1e06cd33cfb8"
      },
      "outputs": [],
      "source": [
        "from google.colab import drive\n",
        "drive.mount('/content/drive')"
      ]
    },
    {
      "cell_type": "code",
      "execution_count": null,
      "metadata": {
        "id": "aF7P15VNOHtj"
      },
      "outputs": [],
      "source": [
        "ROOT_PATH = \"/content/drive/MyDrive/lesion-detection\""
      ]
    },
    {
      "cell_type": "code",
      "execution_count": null,
      "metadata": {
        "colab": {
          "base_uri": "https://localhost:8080/"
        },
        "id": "u327lbfok9SS",
        "outputId": "0379a78f-f1e3-4c53-a9ca-24144fab9692"
      },
      "outputs": [],
      "source": [
        "!pwd"
      ]
    },
    {
      "cell_type": "code",
      "execution_count": null,
      "metadata": {
        "colab": {
          "base_uri": "https://localhost:8080/"
        },
        "id": "AijGskEeOXXj",
        "outputId": "e6abd6cd-2696-43ef-918b-50206a10c87a"
      },
      "outputs": [],
      "source": [
        "%cd \"/content/drive/MyDrive/lesion-detection\""
      ]
    },
    {
      "cell_type": "code",
      "execution_count": null,
      "metadata": {
        "colab": {
          "base_uri": "https://localhost:8080/"
        },
        "id": "OjASmoRKOdXC",
        "outputId": "46c1316e-0f8c-4df0-ff0a-1b3051a035d0"
      },
      "outputs": [],
      "source": [
        "!pwd"
      ]
    },
    {
      "cell_type": "code",
      "execution_count": null,
      "metadata": {
        "colab": {
          "base_uri": "https://localhost:8080/"
        },
        "id": "YZBdE9PrlFFa",
        "outputId": "b4713fc3-fa2d-4d5a-b374-727f2aad0281"
      },
      "outputs": [],
      "source": [
        "!ls"
      ]
    },
    {
      "cell_type": "markdown",
      "metadata": {
        "id": "YUjFBKKqXa-u"
      },
      "source": [
        "## Custom Training"
      ]
    },
    {
      "cell_type": "code",
      "execution_count": null,
      "metadata": {
        "colab": {
          "base_uri": "https://localhost:8080/"
        },
        "id": "D2YkphuiaE7_",
        "outputId": "d1fac973-78eb-47eb-d1a6-52eb4c596119"
      },
      "outputs": [],
      "source": [
        "!yolo task=detect mode=train model=yolov8n.pt data=data/data.yaml epochs=30 imgsz=640 save=true"
      ]
    },
    {
      "cell_type": "code",
      "execution_count": null,
      "metadata": {
        "id": "1MScstfHhArr"
      },
      "outputs": [],
      "source": [
        "!ls runs/detect/train/"
      ]
    },
    {
      "cell_type": "code",
      "execution_count": null,
      "metadata": {
        "id": "_J35i8Ofhjxa"
      },
      "outputs": [],
      "source": [
        "Image(filename=f'runs/detect/train/confusion_matrix.png', width=600)"
      ]
    },
    {
      "cell_type": "code",
      "execution_count": null,
      "metadata": {
        "id": "A-urTWUkhRmn"
      },
      "outputs": [],
      "source": [
        "Image(filename=f'runs/detect/train/results.png', width=600)"
      ]
    },
    {
      "cell_type": "code",
      "execution_count": null,
      "metadata": {
        "id": "HI4nADCCj3F5"
      },
      "outputs": [],
      "source": [
        "Image(filename=f'runs/detect/train/val_batch0_pred.jpg', width=600)"
      ]
    },
    {
      "cell_type": "markdown",
      "metadata": {
        "id": "6ODk1VTlevxn"
      },
      "source": [
        "## Validate Custom Model"
      ]
    },
    {
      "cell_type": "code",
      "execution_count": null,
      "metadata": {
        "id": "YpyuwrNlXc1P"
      },
      "outputs": [],
      "source": [
        "!yolo task=detect mode=val model=best.pt data=data/data.yaml"
      ]
    },
    {
      "cell_type": "markdown",
      "metadata": {
        "id": "i4eASbcWkQBq"
      },
      "source": [
        "## Inference with Custom Model"
      ]
    },
    {
      "cell_type": "code",
      "execution_count": null,
      "metadata": {
        "id": "Wjc1ctZykYuf"
      },
      "outputs": [],
      "source": [
        "!yolo task=detect mode=predict model=best.pt conf=0.25 source=data/test/images save=true"
      ]
    },
    {
      "cell_type": "code",
      "execution_count": null,
      "metadata": {
        "id": "jbVjEtPAkz3j"
      },
      "outputs": [],
      "source": [
        "import glob\n",
        "from IPython.display import Image, display\n",
        "\n",
        "for image_path in glob.glob(f'runs/detect/predict/*.jpg')[:3]:\n",
        "      display(Image(filename=image_path, height=600))\n",
        "      print(\"\\n\")"
      ]
    },
    {
      "cell_type": "markdown",
      "metadata": {
        "id": "C-Qdp-o_rAGQ"
      },
      "source": []
    }
  ],
  "metadata": {
    "accelerator": "GPU",
    "colab": {
      "gpuType": "A100",
      "machine_shape": "hm",
      "provenance": []
    },
    "kernelspec": {
      "display_name": "Python 3",
      "name": "python3"
    },
    "language_info": {
      "name": "python"
    }
  },
  "nbformat": 4,
  "nbformat_minor": 0
}
