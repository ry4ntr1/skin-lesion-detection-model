{
 "cells": [
  {
   "cell_type": "code",
   "execution_count": 1,
   "metadata": {},
   "outputs": [],
   "source": [
    "import gdown\n",
    "import os"
   ]
  },
  {
   "cell_type": "code",
   "execution_count": 2,
   "metadata": {},
   "outputs": [
    {
     "data": {
      "text/plain": [
       "'/Users/ryantri/Projects/image-segmentation/research'"
      ]
     },
     "execution_count": 2,
     "metadata": {},
     "output_type": "execute_result"
    }
   ],
   "source": [
    "%pwd"
   ]
  },
  {
   "cell_type": "code",
   "execution_count": 3,
   "metadata": {},
   "outputs": [],
   "source": [
    "os.chdir('../')"
   ]
  },
  {
   "cell_type": "code",
   "execution_count": 4,
   "metadata": {},
   "outputs": [
    {
     "data": {
      "text/plain": [
       "'/Users/ryantri/Projects/image-segmentation'"
      ]
     },
     "execution_count": 4,
     "metadata": {},
     "output_type": "execute_result"
    }
   ],
   "source": [
    "%pwd"
   ]
  },
  {
   "cell_type": "code",
   "execution_count": 6,
   "metadata": {},
   "outputs": [
    {
     "name": "stderr",
     "output_type": "stream",
     "text": [
      "Downloading...\n",
      "From (original): https://drive.google.com/uc?export=download&id=1GyHdmpDXva9AUZVxlxISQsSZIv6v6CDy\n",
      "From (redirected): https://drive.google.com/uc?export=download&id=1GyHdmpDXva9AUZVxlxISQsSZIv6v6CDy&confirm=t&uuid=5de0540a-e6c9-472a-bd09-2fa769f9d6ce\n",
      "To: /Users/ryantri/Projects/image-segmentation/data/acne_data.zip\n",
      "100%|██████████| 120M/120M [00:01<00:00, 82.5MB/s] \n"
     ]
    },
    {
     "data": {
      "text/plain": [
       "'data/acne_data.zip'"
      ]
     },
     "execution_count": 6,
     "metadata": {},
     "output_type": "execute_result"
    }
   ],
   "source": [
    "\n",
    "file_id = \"1GyHdmpDXva9AUZVxlxISQsSZIv6v6CDy\"  \n",
    "url = f\"https://drive.google.com/uc?export=download&id={file_id}\"\n",
    "output = \"data/acne_data.zip\"  \n",
    "\n",
    "gdown.download(url, output, quiet=False)\n"
   ]
  }
 ],
 "metadata": {
  "kernelspec": {
   "display_name": "Python 3",
   "language": "python",
   "name": "python3"
  },
  "language_info": {
   "codemirror_mode": {
    "name": "ipython",
    "version": 3
   },
   "file_extension": ".py",
   "mimetype": "text/x-python",
   "name": "python",
   "nbconvert_exporter": "python",
   "pygments_lexer": "ipython3",
   "version": "3.10.10"
  }
 },
 "nbformat": 4,
 "nbformat_minor": 2
}
